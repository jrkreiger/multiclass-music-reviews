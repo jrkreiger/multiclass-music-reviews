{
 "cells": [
  {
   "cell_type": "markdown",
   "metadata": {},
   "source": [
    "Data from Kaggle: [https://www.kaggle.com/nolanbconaway/pitchfork-data](https://www.kaggle.com/nolanbconaway/pitchfork-data)"
   ]
  },
  {
   "cell_type": "code",
   "execution_count": 52,
   "metadata": {
    "ExecuteTime": {
     "end_time": "2020-05-12T23:05:08.216263Z",
     "start_time": "2020-05-12T23:05:08.204764Z"
    }
   },
   "outputs": [],
   "source": [
    "import numpy as np\n",
    "import pandas as pd\n",
    "import matplotlib.pyplot as plt\n",
    "%matplotlib inline\n",
    "import seaborn as sns\n",
    "# import chartify\n",
    "\n",
    "import sqlite3\n",
    "\n",
    "from sklearn.feature_extraction.text import CountVectorizer\n",
    "from sklearn.decomposition import LatentDirichletAllocation\n",
    "\n",
    "from sklearn.feature_extraction.text import TfidfVectorizer\n",
    "from sklearn.decomposition import NMF"
   ]
  },
  {
   "cell_type": "code",
   "execution_count": 2,
   "metadata": {
    "ExecuteTime": {
     "end_time": "2020-05-12T22:05:53.728328Z",
     "start_time": "2020-05-12T22:05:53.715816Z"
    }
   },
   "outputs": [],
   "source": [
    "# Set up connection to the database\n",
    "conn = sqlite3.connect('pitchfork.sqlite')\n",
    "cur = conn.cursor()"
   ]
  },
  {
   "cell_type": "code",
   "execution_count": 4,
   "metadata": {
    "ExecuteTime": {
     "end_time": "2020-05-12T22:07:33.787696Z",
     "start_time": "2020-05-12T22:07:33.738571Z"
    }
   },
   "outputs": [
    {
     "data": {
      "text/html": [
       "<div>\n",
       "<style scoped>\n",
       "    .dataframe tbody tr th:only-of-type {\n",
       "        vertical-align: middle;\n",
       "    }\n",
       "\n",
       "    .dataframe tbody tr th {\n",
       "        vertical-align: top;\n",
       "    }\n",
       "\n",
       "    .dataframe thead th {\n",
       "        text-align: right;\n",
       "    }\n",
       "</style>\n",
       "<table border=\"1\" class=\"dataframe\">\n",
       "  <thead>\n",
       "    <tr style=\"text-align: right;\">\n",
       "      <th></th>\n",
       "      <th>artist</th>\n",
       "      <th>reviews</th>\n",
       "    </tr>\n",
       "  </thead>\n",
       "  <tbody>\n",
       "    <tr>\n",
       "      <th>0</th>\n",
       "      <td></td>\n",
       "      <td>2</td>\n",
       "    </tr>\n",
       "    <tr>\n",
       "      <th>1</th>\n",
       "      <td>!!!</td>\n",
       "      <td>7</td>\n",
       "    </tr>\n",
       "    <tr>\n",
       "      <th>2</th>\n",
       "      <td>+/-</td>\n",
       "      <td>6</td>\n",
       "    </tr>\n",
       "    <tr>\n",
       "      <th>3</th>\n",
       "      <td>-ziq</td>\n",
       "      <td>6</td>\n",
       "    </tr>\n",
       "    <tr>\n",
       "      <th>4</th>\n",
       "      <td>...and you will know us by the trail of dead</td>\n",
       "      <td>10</td>\n",
       "    </tr>\n",
       "  </tbody>\n",
       "</table>\n",
       "</div>"
      ],
      "text/plain": [
       "                                         artist  reviews\n",
       "0                                                      2\n",
       "1                                           !!!        7\n",
       "2                                           +/-        6\n",
       "3                                          -ziq        6\n",
       "4  ...and you will know us by the trail of dead       10"
      ]
     },
     "execution_count": 4,
     "metadata": {},
     "output_type": "execute_result"
    }
   ],
   "source": [
    "# Query the genres and reviews tables and load the data\n",
    "cur.execute(\"\"\"\n",
    "    SELECT artist, COUNT(*) AS reviews\n",
    "    FROM artists\n",
    "    GROUP BY artist\n",
    "            ;\"\"\")\n",
    "artists = pd.DataFrame(cur.fetchall())\n",
    "artists.columns = [x[0] for x in cur.description]\n",
    "artists.head()"
   ]
  },
  {
   "cell_type": "code",
   "execution_count": 5,
   "metadata": {
    "ExecuteTime": {
     "end_time": "2020-05-12T22:07:45.816080Z",
     "start_time": "2020-05-12T22:07:45.799270Z"
    }
   },
   "outputs": [
    {
     "data": {
      "text/plain": [
       "count    8633.000000\n",
       "mean        2.181281\n",
       "std         7.655231\n",
       "min         1.000000\n",
       "25%         1.000000\n",
       "50%         1.000000\n",
       "75%         2.000000\n",
       "max       688.000000\n",
       "Name: reviews, dtype: float64"
      ]
     },
     "execution_count": 5,
     "metadata": {},
     "output_type": "execute_result"
    }
   ],
   "source": [
    "artists.reviews.describe()"
   ]
  },
  {
   "cell_type": "code",
   "execution_count": 15,
   "metadata": {
    "ExecuteTime": {
     "end_time": "2020-05-12T22:11:44.637639Z",
     "start_time": "2020-05-12T22:11:44.621466Z"
    }
   },
   "outputs": [
    {
     "data": {
      "text/plain": [
       "count    2060.000000\n",
       "mean        4.825728\n",
       "std         2.621912\n",
       "min         3.000000\n",
       "25%         3.000000\n",
       "50%         4.000000\n",
       "75%         5.000000\n",
       "max        23.000000\n",
       "Name: reviews, dtype: float64"
      ]
     },
     "execution_count": 15,
     "metadata": {},
     "output_type": "execute_result"
    }
   ],
   "source": [
    "top = artists[(artists.reviews > 2) & (artists.reviews < 688)]\n",
    "top.reviews.describe()"
   ]
  },
  {
   "cell_type": "code",
   "execution_count": 17,
   "metadata": {
    "ExecuteTime": {
     "end_time": "2020-05-12T22:12:12.207573Z",
     "start_time": "2020-05-12T22:12:12.193499Z"
    }
   },
   "outputs": [
    {
     "data": {
      "text/html": [
       "<div>\n",
       "<style scoped>\n",
       "    .dataframe tbody tr th:only-of-type {\n",
       "        vertical-align: middle;\n",
       "    }\n",
       "\n",
       "    .dataframe tbody tr th {\n",
       "        vertical-align: top;\n",
       "    }\n",
       "\n",
       "    .dataframe thead th {\n",
       "        text-align: right;\n",
       "    }\n",
       "</style>\n",
       "<table border=\"1\" class=\"dataframe\">\n",
       "  <thead>\n",
       "    <tr style=\"text-align: right;\">\n",
       "      <th></th>\n",
       "      <th>artist</th>\n",
       "      <th>reviews</th>\n",
       "    </tr>\n",
       "  </thead>\n",
       "  <tbody>\n",
       "    <tr>\n",
       "      <th>2955</th>\n",
       "      <td>guided by voices</td>\n",
       "      <td>23</td>\n",
       "    </tr>\n",
       "    <tr>\n",
       "      <th>5121</th>\n",
       "      <td>neil young</td>\n",
       "      <td>23</td>\n",
       "    </tr>\n",
       "  </tbody>\n",
       "</table>\n",
       "</div>"
      ],
      "text/plain": [
       "                artist  reviews\n",
       "2955  guided by voices       23\n",
       "5121        neil young       23"
      ]
     },
     "execution_count": 17,
     "metadata": {},
     "output_type": "execute_result"
    }
   ],
   "source": [
    "top[top.reviews == 23]"
   ]
  },
  {
   "cell_type": "code",
   "execution_count": 21,
   "metadata": {
    "ExecuteTime": {
     "end_time": "2020-05-12T22:14:33.598676Z",
     "start_time": "2020-05-12T22:14:33.585342Z"
    }
   },
   "outputs": [
    {
     "data": {
      "text/html": [
       "<div>\n",
       "<style scoped>\n",
       "    .dataframe tbody tr th:only-of-type {\n",
       "        vertical-align: middle;\n",
       "    }\n",
       "\n",
       "    .dataframe tbody tr th {\n",
       "        vertical-align: top;\n",
       "    }\n",
       "\n",
       "    .dataframe thead th {\n",
       "        text-align: right;\n",
       "    }\n",
       "</style>\n",
       "<table border=\"1\" class=\"dataframe\">\n",
       "  <thead>\n",
       "    <tr style=\"text-align: right;\">\n",
       "      <th></th>\n",
       "      <th>artist</th>\n",
       "      <th>reviews</th>\n",
       "    </tr>\n",
       "  </thead>\n",
       "  <tbody>\n",
       "    <tr>\n",
       "      <th>2506</th>\n",
       "      <td>fiona apple</td>\n",
       "      <td>3</td>\n",
       "    </tr>\n",
       "  </tbody>\n",
       "</table>\n",
       "</div>"
      ],
      "text/plain": [
       "           artist  reviews\n",
       "2506  fiona apple        3"
      ]
     },
     "execution_count": 21,
     "metadata": {},
     "output_type": "execute_result"
    }
   ],
   "source": [
    "artists[artists.artist == 'fiona apple']"
   ]
  },
  {
   "cell_type": "code",
   "execution_count": 27,
   "metadata": {
    "ExecuteTime": {
     "end_time": "2020-05-12T22:18:28.145778Z",
     "start_time": "2020-05-12T22:18:27.893874Z"
    }
   },
   "outputs": [
    {
     "data": {
      "text/html": [
       "<div>\n",
       "<style scoped>\n",
       "    .dataframe tbody tr th:only-of-type {\n",
       "        vertical-align: middle;\n",
       "    }\n",
       "\n",
       "    .dataframe tbody tr th {\n",
       "        vertical-align: top;\n",
       "    }\n",
       "\n",
       "    .dataframe thead th {\n",
       "        text-align: right;\n",
       "    }\n",
       "</style>\n",
       "<table border=\"1\" class=\"dataframe\">\n",
       "  <thead>\n",
       "    <tr style=\"text-align: right;\">\n",
       "      <th></th>\n",
       "      <th>reviewid</th>\n",
       "      <th>content</th>\n",
       "      <th>artist</th>\n",
       "      <th>title</th>\n",
       "      <th>score</th>\n",
       "      <th>best_new_music</th>\n",
       "    </tr>\n",
       "  </thead>\n",
       "  <tbody>\n",
       "    <tr>\n",
       "      <th>0</th>\n",
       "      <td>22719</td>\n",
       "      <td>When Chance the Rapper performed “Sunday Candy...</td>\n",
       "      <td>chance the rapper</td>\n",
       "      <td>merry christmas lil mama</td>\n",
       "      <td>8.1</td>\n",
       "      <td>0</td>\n",
       "    </tr>\n",
       "    <tr>\n",
       "      <th>1</th>\n",
       "      <td>22719</td>\n",
       "      <td>When Chance the Rapper performed “Sunday Candy...</td>\n",
       "      <td>jeremih</td>\n",
       "      <td>merry christmas lil mama</td>\n",
       "      <td>8.1</td>\n",
       "      <td>0</td>\n",
       "    </tr>\n",
       "    <tr>\n",
       "      <th>2</th>\n",
       "      <td>22691</td>\n",
       "      <td>For over a decade now, The-Dream has demonstra...</td>\n",
       "      <td>the-dream</td>\n",
       "      <td>love you to death</td>\n",
       "      <td>7.0</td>\n",
       "      <td>0</td>\n",
       "    </tr>\n",
       "    <tr>\n",
       "      <th>3</th>\n",
       "      <td>22698</td>\n",
       "      <td>To cap off a busy 2016, in which she released ...</td>\n",
       "      <td>jessy lanza</td>\n",
       "      <td>oh no no no remixes ep</td>\n",
       "      <td>6.5</td>\n",
       "      <td>0</td>\n",
       "    </tr>\n",
       "    <tr>\n",
       "      <th>4</th>\n",
       "      <td>22676</td>\n",
       "      <td>Los Angeles songwriter Alex Izenberg describes...</td>\n",
       "      <td>alex izenberg</td>\n",
       "      <td>harlequin</td>\n",
       "      <td>6.3</td>\n",
       "      <td>0</td>\n",
       "    </tr>\n",
       "  </tbody>\n",
       "</table>\n",
       "</div>"
      ],
      "text/plain": [
       "   reviewid                                            content  \\\n",
       "0     22719  When Chance the Rapper performed “Sunday Candy...   \n",
       "1     22719  When Chance the Rapper performed “Sunday Candy...   \n",
       "2     22691  For over a decade now, The-Dream has demonstra...   \n",
       "3     22698  To cap off a busy 2016, in which she released ...   \n",
       "4     22676  Los Angeles songwriter Alex Izenberg describes...   \n",
       "\n",
       "              artist                     title  score  best_new_music  \n",
       "0  chance the rapper  merry christmas lil mama    8.1               0  \n",
       "1            jeremih  merry christmas lil mama    8.1               0  \n",
       "2          the-dream         love you to death    7.0               0  \n",
       "3        jessy lanza    oh no no no remixes ep    6.5               0  \n",
       "4      alex izenberg                 harlequin    6.3               0  "
      ]
     },
     "execution_count": 27,
     "metadata": {},
     "output_type": "execute_result"
    }
   ],
   "source": [
    "# Query the genres and reviews tables and load the data\n",
    "cur.execute(\"\"\"\n",
    "    SELECT c.reviewid, c.content, a.artist, r.title, r.score, r.best_new_music\n",
    "    FROM content c\n",
    "    LEFT JOIN artists a\n",
    "    ON c.reviewid = a.reviewid\n",
    "    LEFT JOIN reviews r\n",
    "    ON c.reviewid = r.reviewid\n",
    "    INNER JOIN genres g\n",
    "    ON c.reviewid = g.reviewid\n",
    "    WHERE g.genre = 'pop/r&b'\n",
    "            ;\"\"\")\n",
    "pop = pd.DataFrame(cur.fetchall())\n",
    "pop.columns = [x[0] for x in cur.description]\n",
    "pop.head()"
   ]
  },
  {
   "cell_type": "code",
   "execution_count": 28,
   "metadata": {
    "ExecuteTime": {
     "end_time": "2020-05-12T22:18:30.407703Z",
     "start_time": "2020-05-12T22:18:30.399581Z"
    }
   },
   "outputs": [
    {
     "data": {
      "text/plain": [
       "1471"
      ]
     },
     "execution_count": 28,
     "metadata": {},
     "output_type": "execute_result"
    }
   ],
   "source": [
    "len(pop)"
   ]
  },
  {
   "cell_type": "code",
   "execution_count": 29,
   "metadata": {
    "ExecuteTime": {
     "end_time": "2020-05-12T22:18:36.256725Z",
     "start_time": "2020-05-12T22:18:36.239467Z"
    }
   },
   "outputs": [
    {
     "name": "stdout",
     "output_type": "stream",
     "text": [
      "<class 'pandas.core.frame.DataFrame'>\n",
      "RangeIndex: 1471 entries, 0 to 1470\n",
      "Data columns (total 6 columns):\n",
      "reviewid          1471 non-null int64\n",
      "content           1471 non-null object\n",
      "artist            1471 non-null object\n",
      "title             1471 non-null object\n",
      "score             1471 non-null float64\n",
      "best_new_music    1471 non-null int64\n",
      "dtypes: float64(1), int64(2), object(3)\n",
      "memory usage: 69.0+ KB\n"
     ]
    }
   ],
   "source": [
    "pop.info()"
   ]
  },
  {
   "cell_type": "code",
   "execution_count": 32,
   "metadata": {
    "ExecuteTime": {
     "end_time": "2020-05-12T22:19:51.289857Z",
     "start_time": "2020-05-12T22:19:51.246031Z"
    }
   },
   "outputs": [
    {
     "data": {
      "text/html": [
       "<div>\n",
       "<style scoped>\n",
       "    .dataframe tbody tr th:only-of-type {\n",
       "        vertical-align: middle;\n",
       "    }\n",
       "\n",
       "    .dataframe tbody tr th {\n",
       "        vertical-align: top;\n",
       "    }\n",
       "\n",
       "    .dataframe thead th {\n",
       "        text-align: right;\n",
       "    }\n",
       "</style>\n",
       "<table border=\"1\" class=\"dataframe\">\n",
       "  <thead>\n",
       "    <tr style=\"text-align: right;\">\n",
       "      <th></th>\n",
       "      <th>reviewid</th>\n",
       "      <th>score</th>\n",
       "      <th>best_new_music</th>\n",
       "    </tr>\n",
       "  </thead>\n",
       "  <tbody>\n",
       "    <tr>\n",
       "      <th>count</th>\n",
       "      <td>1471.000000</td>\n",
       "      <td>1471.000000</td>\n",
       "      <td>1471.000000</td>\n",
       "    </tr>\n",
       "    <tr>\n",
       "      <th>mean</th>\n",
       "      <td>13420.929980</td>\n",
       "      <td>6.894969</td>\n",
       "      <td>0.060503</td>\n",
       "    </tr>\n",
       "    <tr>\n",
       "      <th>std</th>\n",
       "      <td>6140.897318</td>\n",
       "      <td>1.299315</td>\n",
       "      <td>0.238498</td>\n",
       "    </tr>\n",
       "    <tr>\n",
       "      <th>min</th>\n",
       "      <td>99.000000</td>\n",
       "      <td>0.000000</td>\n",
       "      <td>0.000000</td>\n",
       "    </tr>\n",
       "    <tr>\n",
       "      <th>25%</th>\n",
       "      <td>9501.500000</td>\n",
       "      <td>6.200000</td>\n",
       "      <td>0.000000</td>\n",
       "    </tr>\n",
       "    <tr>\n",
       "      <th>50%</th>\n",
       "      <td>14042.000000</td>\n",
       "      <td>7.100000</td>\n",
       "      <td>0.000000</td>\n",
       "    </tr>\n",
       "    <tr>\n",
       "      <th>75%</th>\n",
       "      <td>18526.000000</td>\n",
       "      <td>7.700000</td>\n",
       "      <td>0.000000</td>\n",
       "    </tr>\n",
       "    <tr>\n",
       "      <th>max</th>\n",
       "      <td>22719.000000</td>\n",
       "      <td>10.000000</td>\n",
       "      <td>1.000000</td>\n",
       "    </tr>\n",
       "  </tbody>\n",
       "</table>\n",
       "</div>"
      ],
      "text/plain": [
       "           reviewid        score  best_new_music\n",
       "count   1471.000000  1471.000000     1471.000000\n",
       "mean   13420.929980     6.894969        0.060503\n",
       "std     6140.897318     1.299315        0.238498\n",
       "min       99.000000     0.000000        0.000000\n",
       "25%     9501.500000     6.200000        0.000000\n",
       "50%    14042.000000     7.100000        0.000000\n",
       "75%    18526.000000     7.700000        0.000000\n",
       "max    22719.000000    10.000000        1.000000"
      ]
     },
     "execution_count": 32,
     "metadata": {},
     "output_type": "execute_result"
    }
   ],
   "source": [
    "pop.describe()"
   ]
  },
  {
   "cell_type": "code",
   "execution_count": 33,
   "metadata": {
    "ExecuteTime": {
     "end_time": "2020-05-12T22:21:44.742151Z",
     "start_time": "2020-05-12T22:21:44.737951Z"
    }
   },
   "outputs": [],
   "source": [
    "# Get just the texts for modeling\n",
    "data = pop['content']"
   ]
  },
  {
   "cell_type": "code",
   "execution_count": 34,
   "metadata": {
    "ExecuteTime": {
     "end_time": "2020-05-12T22:21:48.667575Z",
     "start_time": "2020-05-12T22:21:46.531197Z"
    }
   },
   "outputs": [
    {
     "name": "stderr",
     "output_type": "stream",
     "text": [
      "[nltk_data] Downloading package stopwords to\n",
      "[nltk_data]     /Users/jennykreiger/nltk_data...\n",
      "[nltk_data]   Package stopwords is already up-to-date!\n"
     ]
    }
   ],
   "source": [
    "# Set up stopwords to be removed\n",
    "import nltk\n",
    "nltk.download('stopwords')\n",
    "from nltk.corpus import stopwords\n",
    "import string\n",
    "\n",
    "stop_list = stopwords.words('english')\n",
    "stop_list += list(string.punctuation)\n",
    "stop_list += ['br', '.<', '..', '...', '``', \"''\", '--', 'http', 'https',\n",
    "              'www', 'com']"
   ]
  },
  {
   "cell_type": "code",
   "execution_count": 72,
   "metadata": {
    "ExecuteTime": {
     "end_time": "2020-05-12T23:36:13.243971Z",
     "start_time": "2020-05-12T23:36:13.230478Z"
    }
   },
   "outputs": [],
   "source": [
    "# Create a function to model topics using NMF\n",
    "def nmf_it(data, n_samples, n_features, n_components, n_top_words):\n",
    "    '''Fits an NMF model and prints top words for each topic.\n",
    "    \n",
    "    Dependencies: sklearn.feature_extraction.text.TfidfVectorizer,\n",
    "        sklearn.decomposition.NMF\n",
    "    \n",
    "    Parameters:\n",
    "        data: DataFrame/Series containing only raw texts\n",
    "        n_samples: number of texts to sample from data\n",
    "        n_features: length of TF-IDF vectors to calculate\n",
    "        n_components: number of topics to model\n",
    "        n_top_words: number of words to print for each topic, ranked by\n",
    "            frequency\n",
    "    '''\n",
    "        \n",
    "    # Import TfidfVectorizer and NMF\n",
    "    from sklearn.feature_extraction.text import TfidfVectorizer\n",
    "    from sklearn.decomposition import NMF\n",
    "    \n",
    "    # Get sample of data\n",
    "    data_samples = data.sample(n_samples, random_state=1)\n",
    "    \n",
    "    # Instantiate and fit TfidfVectorizer\n",
    "    tfidf_vectorizer = TfidfVectorizer(max_df=0.95, min_df=2,\n",
    "                                       max_features=n_features,\n",
    "                                       stop_words=stop_list)\n",
    "\n",
    "    tfidf = tfidf_vectorizer.fit_transform(data_samples)\n",
    "    \n",
    "    # Fit the NMF model\n",
    "    nmf = NMF(n_components=n_components, random_state=1, alpha=.1, \n",
    "              l1_ratio=.5).fit(tfidf)\n",
    "\n",
    "    # View top words for each topic\n",
    "    print(\"\\nTopics in NMF model (Frobenius norm):\")\n",
    "    tfidf_feature_names = tfidf_vectorizer.get_feature_names()\n",
    "    for topic_idx, topic in enumerate(nmf.components_):\n",
    "        message = \"Topic #{}: \".format(topic_idx+1)\n",
    "        message += \" \".join([tfidf_feature_names[i] for i in topic.argsort()[:-n_top_words - 1:-1]])\n",
    "        print(message)\n",
    "    \n",
    "    return tfidf, nmf"
   ]
  },
  {
   "cell_type": "code",
   "execution_count": 73,
   "metadata": {
    "ExecuteTime": {
     "end_time": "2020-05-12T23:36:15.351896Z",
     "start_time": "2020-05-12T23:36:13.860206Z"
    }
   },
   "outputs": [
    {
     "name": "stdout",
     "output_type": "stream",
     "text": [
      "\n",
      "Topics in NMF model (Frobenius norm):\n",
      "Topic #1: like album one song songs even record time love much\n",
      "Topic #2: rap rapper hip rappers hop mixtape rapping beats wayne raps\n",
      "Topic #3: prince purple rain funk kiss sex new world guitar 80s\n",
      "Topic #4: pop indie group girls girl love rock star stars madonna\n",
      "Topic #5: disco dance mix house dj electro duo synth club remix\n",
      "Topic #6: guitar acoustic piano vocals melody folk bass percussion drums electric\n",
      "Topic #7: jones soul state old give soundtrack breaks strings mother james\n",
      "Topic #8: björk live strings dirty disc box remixes quality melody mark\n",
      "Topic #9: band rock bands indie sound go group guitars live punk\n",
      "Topic #10: music jazz dance electronic musicians traditional modern house well listening\n",
      "Topic #11: funk soul jazz hayes hip hop horn 70s groove horns\n",
      "Topic #12: ep oh track year vocals original remixes summer future release\n",
      "Topic #13: beyoncé rihanna jay star day album love singles dream co\n",
      "Topic #14: gainsbourg french de melody english reggae air film death musical\n",
      "Topic #15: robyn body talk dance free 2010 single love pop ready\n",
      "Topic #16: black box brown badu soul even life women hell hop\n",
      "Topic #17: diplo mix major mixtape la top dj reggae tape fire\n",
      "Topic #18: taylor hot piano closing solo song emotional throughout instrumentation pieces\n",
      "Topic #19: blake james bass piano 2011 samples last british vocal london\n",
      "Topic #20: jackson michael wall rhythm disc video la oh dancing major\n"
     ]
    }
   ],
   "source": [
    "# View top 10 words for 20 topics\n",
    "tfidf, nmf = nmf_it(data, 1471, 1000, 20, 10)"
   ]
  },
  {
   "cell_type": "code",
   "execution_count": 39,
   "metadata": {
    "ExecuteTime": {
     "end_time": "2020-05-12T22:24:43.354785Z",
     "start_time": "2020-05-12T22:24:43.191172Z"
    }
   },
   "outputs": [],
   "source": [
    "# Import needed objects\n",
    "from sklearn.cluster import KMeans\n",
    "from yellowbrick.cluster import KElbowVisualizer\n",
    "from sklearn.feature_extraction.text import TfidfVectorizer\n",
    "from sklearn.decomposition import NMF"
   ]
  },
  {
   "cell_type": "code",
   "execution_count": 40,
   "metadata": {
    "ExecuteTime": {
     "end_time": "2020-05-12T22:25:05.224760Z",
     "start_time": "2020-05-12T22:25:03.866113Z"
    }
   },
   "outputs": [],
   "source": [
    "# Vectorize the text sample\n",
    "tfidf_vectorizer = TfidfVectorizer(max_df=0.95, min_df=2, max_features=1000,\n",
    "                                   stop_words=stop_list)\n",
    "\n",
    "tfidf = tfidf_vectorizer.fit_transform(data)"
   ]
  },
  {
   "cell_type": "code",
   "execution_count": 44,
   "metadata": {
    "ExecuteTime": {
     "end_time": "2020-05-12T22:51:13.391397Z",
     "start_time": "2020-05-12T22:44:10.780554Z"
    }
   },
   "outputs": [
    {
     "data": {
      "image/png": "[encoded data removed]",
      "text/plain": [
       "<Figure size 576x396 with 2 Axes>"
      ]
     },
     "metadata": {},
     "output_type": "display_data"
    },
    {
     "data": {
      "text/plain": [
       "<matplotlib.axes._subplots.AxesSubplot at 0x1a23551518>"
      ]
     },
     "execution_count": 44,
     "metadata": {},
     "output_type": "execute_result"
    }
   ],
   "source": [
    "# Instantiate the KMeans model and visualizer\n",
    "kmeans = KMeans(random_state=1)\n",
    "visualizer = KElbowVisualizer(kmeans, k=(15, 25))\n",
    "\n",
    "# Fit the visualizer and plot the results\n",
    "visualizer.fit(tfidf)       \n",
    "visualizer.show()     "
   ]
  },
  {
   "cell_type": "code",
   "execution_count": 45,
   "metadata": {
    "ExecuteTime": {
     "end_time": "2020-05-12T22:55:49.370082Z",
     "start_time": "2020-05-12T22:51:53.694038Z"
    }
   },
   "outputs": [
    {
     "data": {
      "image/png": "[encoded data removed]",
      "text/plain": [
       "<Figure size 576x396 with 2 Axes>"
      ]
     },
     "metadata": {},
     "output_type": "display_data"
    },
    {
     "data": {
      "text/plain": [
       "<matplotlib.axes._subplots.AxesSubplot at 0x1a22fdff98>"
      ]
     },
     "execution_count": 45,
     "metadata": {},
     "output_type": "execute_result"
    }
   ],
   "source": [
    "# Instantiate the KMeans model and visualizer\n",
    "kmeans = KMeans(random_state=1)\n",
    "visualizer = KElbowVisualizer(kmeans, k=(15, 20))\n",
    "\n",
    "# Fit the visualizer and plot the results\n",
    "visualizer.fit(tfidf)       \n",
    "visualizer.show()  "
   ]
  },
  {
   "cell_type": "code",
   "execution_count": 46,
   "metadata": {
    "ExecuteTime": {
     "end_time": "2020-05-12T22:56:14.881228Z",
     "start_time": "2020-05-12T22:56:13.438552Z"
    },
    "scrolled": true
   },
   "outputs": [
    {
     "name": "stdout",
     "output_type": "stream",
     "text": [
      "\n",
      "Topics in NMF model (Frobenius norm):\n",
      "Topic #0: like album pop one song songs love record even time\n",
      "Topic #1: rap rapper hip hop rappers mixtape rapping beats wayne lil\n",
      "Topic #2: prince purple rain funk kiss sex new world guitar 80s\n",
      "Topic #3: beyoncé rihanna jay pop star girl album singles love day\n",
      "Topic #4: disco dance mix dj house electro duo synth club remix\n",
      "Topic #5: guitar acoustic piano vocals melody folk bass percussion drums guitars\n",
      "Topic #6: jones soul state old give soundtrack strings breaks mother albums\n",
      "Topic #7: björk live strings dirty disc box remixes quality melody mark\n",
      "Topic #8: band rock bands indie sound group go guitars live punk\n",
      "Topic #9: music jazz dance electronic musicians traditional modern house well people\n",
      "Topic #10: funk soul jazz hayes hip hop horn 70s groove horns\n",
      "Topic #11: blake james bass piano ep 2011 samples last vocal british\n",
      "Topic #12: jackson michael wall rhythm la major disc video dancing oh\n",
      "Topic #13: gainsbourg french de melody english reggae air film death musical\n",
      "Topic #14: robyn body talk pop dance free 2010 love single ready\n",
      "Topic #15: black box brown badu soul even life women hell hop\n"
     ]
    }
   ],
   "source": [
    "# View top 10 words for 20 topics\n",
    "tfidf, nmf = nmf_it(data, 1471, 1000, 16, 10)"
   ]
  },
  {
   "cell_type": "markdown",
   "metadata": {},
   "source": [
    "## Try LDA"
   ]
  },
  {
   "cell_type": "code",
   "execution_count": null,
   "metadata": {},
   "outputs": [],
   "source": [
    "# Use tf (raw term count) features for LDA.\n",
    "counts = CountVectorizer(max_df=0.95, min_df=2,\n",
    "                         max_features=n_features,\n",
    "                         stop_words='english')\n",
    "\n",
    "lda = LatentDirichletAllocation(n_components=n_components, max_iter=5,\n",
    "                                learning_method='online',\n",
    "                                learning_offset=50.,\n",
    "                                random_state=0)\n",
    "\n",
    "lda.fit(tf)\n",
    "\n",
    "counts_feats = counts.get_feature_names()\n",
    "\n",
    "def print_top_words(model, feature_names, n_top_words):\n",
    "    for topic_idx, topic in enumerate(model.components_):\n",
    "        message = \"Topic #%d: \" % topic_idx\n",
    "        message += \" \".join([feature_names[i]\n",
    "                             for i in topic.argsort()[:-n_top_words - 1:-1]])\n",
    "        print(message)\n",
    "    print()\n",
    "print_top_words(lda, tf_feature_names, n_top_words)"
   ]
  },
  {
   "cell_type": "code",
   "execution_count": 47,
   "metadata": {
    "ExecuteTime": {
     "end_time": "2020-05-12T23:02:19.218526Z",
     "start_time": "2020-05-12T23:02:19.208517Z"
    }
   },
   "outputs": [],
   "source": [
    "# Create a function to model topics using NMF\n",
    "def lda_it(data, n_samples, n_features, n_components, n_top_words):\n",
    "    '''Fits an LDA model and prints top words for each topic.\n",
    "    \n",
    "    Dependencies: sklearn.feature_extraction.text.CountVectorizer,\n",
    "        sklearn.decomposition.LatentDirichletAllocation\n",
    "    \n",
    "    Parameters:\n",
    "        data: DataFrame/Series containing only raw texts\n",
    "        n_samples: number of texts to sample from data\n",
    "        n_features: length of TF-IDF vectors to calculate\n",
    "        n_components: number of topics to model\n",
    "        n_top_words: number of words to print for each topic, ranked by\n",
    "            frequency\n",
    "    '''\n",
    "        \n",
    "    # Import TfidfVectorizer and NMF\n",
    "    from sklearn.feature_extraction.text import CountVectorizer\n",
    "    from sklearn.decomposition import LatentDirichletAllocation\n",
    "    \n",
    "    # Get sample of data\n",
    "    data_samples = data.sample(n_samples, random_state=1)\n",
    "    \n",
    "    # Instantiate and fit TfidfVectorizer\n",
    "    count_vectorizer = CountVectorizer(max_df=0.95, min_df=2,\n",
    "                                       max_features=n_features,\n",
    "                                       stop_words=stop_list)\n",
    "\n",
    "    counts = count_vectorizer.fit_transform(data_samples)\n",
    "    \n",
    "    # Fit the LDA model\n",
    "    lda = LatentDirichletAllocation(n_components=n_components, \n",
    "                                    max_iter=5,\n",
    "                                    learning_method='online',\n",
    "                                    learning_offset=50.,\n",
    "                                    random_state=0).fit(counts)\n",
    "\n",
    "    # View top words for each topic\n",
    "    print(\"\\nTopics in LDA model (Frobenius norm):\")\n",
    "    counts_feats = count_vectorizer.get_feature_names()\n",
    "    for topic_idx, topic in enumerate(lda.components_):\n",
    "        message = \"Topic #%d: \" % topic_idx\n",
    "        message += \" \".join([counts_feats[i] for i in topic.argsort()[:-n_top_words - 1:-1]])\n",
    "        print(message)\n",
    "    \n",
    "    return counts, lda"
   ]
  },
  {
   "cell_type": "code",
   "execution_count": 48,
   "metadata": {
    "ExecuteTime": {
     "end_time": "2020-05-12T23:02:52.706206Z",
     "start_time": "2020-05-12T23:02:40.912356Z"
    }
   },
   "outputs": [
    {
     "name": "stdout",
     "output_type": "stream",
     "text": [
      "\n",
      "Topics in LDA model (Frobenius norm):\n",
      "Topic #0: like rock band pop music songs sound one tracks many\n",
      "Topic #1: like band songs much new whose record even debut good\n",
      "Topic #2: like album one pop music song songs even time much\n",
      "Topic #3: like songs one album even music good life two pop\n",
      "Topic #4: rock album like drum many songs voice us indie bit\n",
      "Topic #5: one like songs album pop love song music work record\n",
      "Topic #6: album time pop double track like one night music first\n",
      "Topic #7: björk dj house even strings percussion remix series mark like\n",
      "Topic #8: like album even band first record rock love one vocals\n",
      "Topic #9: like track album third one old three music though record\n",
      "Topic #10: prince blake jones album purple like new song rain funk\n",
      "Topic #11: album like time listening one sound much music soul first\n",
      "Topic #12: smith one hour lonely lyrics record good album la like\n",
      "Topic #13: road low like read even high music one perhaps good\n",
      "Topic #14: robyn album pop talk prince body world first rain around\n",
      "Topic #15: love like album songs song music one soul new voice\n",
      "Topic #16: hayes oh ocean album remixes like sound voice songs band\n",
      "Topic #17: band like album guitar music rock pop sound one songs\n",
      "Topic #18: wayne lil mixtape rapper whether god best raps new drama\n",
      "Topic #19: like pop album songs song music new band prince time\n"
     ]
    },
    {
     "data": {
      "text/plain": [
       "(<1471x1000 sparse matrix of type '<class 'numpy.int64'>'\n",
       " \twith 200262 stored elements in Compressed Sparse Row format>,\n",
       " LatentDirichletAllocation(batch_size=128, doc_topic_prior=None,\n",
       "                           evaluate_every=-1, learning_decay=0.7,\n",
       "                           learning_method='online', learning_offset=50.0,\n",
       "                           max_doc_update_iter=100, max_iter=5,\n",
       "                           mean_change_tol=0.001, n_components=20, n_jobs=None,\n",
       "                           perp_tol=0.1, random_state=0, topic_word_prior=None,\n",
       "                           total_samples=1000000.0, verbose=0))"
      ]
     },
     "execution_count": 48,
     "metadata": {},
     "output_type": "execute_result"
    }
   ],
   "source": [
    "lda_it(data, 1471, 1000, 20, 10)"
   ]
  },
  {
   "cell_type": "code",
   "execution_count": 54,
   "metadata": {
    "ExecuteTime": {
     "end_time": "2020-05-12T23:14:08.941805Z",
     "start_time": "2020-05-12T23:05:50.456304Z"
    }
   },
   "outputs": [
    {
     "data": {
      "image/png": "[encoded data removed]",
      "text/plain": [
       "<Figure size 432x288 with 2 Axes>"
      ]
     },
     "metadata": {},
     "output_type": "display_data"
    },
    {
     "data": {
      "text/plain": [
       "<matplotlib.axes._subplots.AxesSubplot at 0x1a257d1278>"
      ]
     },
     "execution_count": 54,
     "metadata": {},
     "output_type": "execute_result"
    }
   ],
   "source": [
    "counter = CountVectorizer(max_df=0.95, min_df=2,\n",
    "                          max_features=1000,\n",
    "                          stop_words='english')\n",
    "\n",
    "counts = counter.fit_transform(data)\n",
    "\n",
    "# Instantiate the KMeans model and visualizer\n",
    "kmeans = KMeans(random_state=1)\n",
    "visualizer = KElbowVisualizer(kmeans, k=(15, 25))\n",
    "\n",
    "# Fit the visualizer and plot the results\n",
    "visualizer.fit(counts)       \n",
    "visualizer.show()  "
   ]
  },
  {
   "cell_type": "code",
   "execution_count": 55,
   "metadata": {
    "ExecuteTime": {
     "end_time": "2020-05-12T23:14:42.389884Z",
     "start_time": "2020-05-12T23:14:31.058883Z"
    }
   },
   "outputs": [
    {
     "name": "stdout",
     "output_type": "stream",
     "text": [
      "\n",
      "Topics in LDA model (Frobenius norm):\n",
      "Topic #0: like music pop rock band songs sound one group tracks\n",
      "Topic #1: like songs new band track much record whose though song\n",
      "Topic #2: like album one pop music song even songs time love\n",
      "Topic #3: 50 bush wayne lil mixtape rapper one best game new\n",
      "Topic #4: rock like indie pop voice bit english dance words another\n",
      "Topic #5: pop one album song like first songs record love work\n",
      "Topic #6: album time like track double one black music pop night\n",
      "Topic #7: go solo one disc band albums lost good group audience\n",
      "Topic #8: album like heart band first record one new songs soul\n",
      "Topic #9: album like track music one much old something two without\n",
      "Topic #10: prince björk album purple song rain new live world like\n",
      "Topic #11: album like music dub even reggae sound one much would\n",
      "Topic #12: smith one lonely hour record like album good time lyrics\n",
      "Topic #13: road low like read even high us one body good\n",
      "Topic #14: robyn talk body pop album dance love 2010 first track\n",
      "Topic #15: love album like soul singer music voice song new songs\n",
      "Topic #16: like album songs pop band song sound music guitar one\n",
      "Topic #17: like music band rock album one funk pop guitar sound\n"
     ]
    },
    {
     "data": {
      "text/plain": [
       "(<1471x1000 sparse matrix of type '<class 'numpy.int64'>'\n",
       " \twith 200262 stored elements in Compressed Sparse Row format>,\n",
       " LatentDirichletAllocation(batch_size=128, doc_topic_prior=None,\n",
       "                           evaluate_every=-1, learning_decay=0.7,\n",
       "                           learning_method='online', learning_offset=50.0,\n",
       "                           max_doc_update_iter=100, max_iter=5,\n",
       "                           mean_change_tol=0.001, n_components=18, n_jobs=None,\n",
       "                           perp_tol=0.1, random_state=0, topic_word_prior=None,\n",
       "                           total_samples=1000000.0, verbose=0))"
      ]
     },
     "execution_count": 55,
     "metadata": {},
     "output_type": "execute_result"
    }
   ],
   "source": [
    "lda_it(data, 1471, 1000, 18, 10)"
   ]
  },
  {
   "cell_type": "code",
   "execution_count": 60,
   "metadata": {
    "ExecuteTime": {
     "end_time": "2020-05-12T23:19:08.480869Z",
     "start_time": "2020-05-12T23:19:08.456306Z"
    }
   },
   "outputs": [
    {
     "ename": "AttributeError",
     "evalue": "'str' object has no attribute 'contains'",
     "output_type": "error",
     "traceback": [
      "\u001b[0;31m---------------------------------------------------------------------------\u001b[0m",
      "\u001b[0;31mAttributeError\u001b[0m                            Traceback (most recent call last)",
      "\u001b[0;32m<ipython-input-60-489a2c4d1ef5>\u001b[0m in \u001b[0;36m<module>\u001b[0;34m\u001b[0m\n\u001b[0;32m----> 1\u001b[0;31m \u001b[0mpop\u001b[0m\u001b[0;34m[\u001b[0m\u001b[0mstr\u001b[0m\u001b[0;34m(\u001b[0m\u001b[0mpop\u001b[0m\u001b[0;34m[\u001b[0m\u001b[0;34m'content'\u001b[0m\u001b[0;34m]\u001b[0m\u001b[0;34m)\u001b[0m\u001b[0;34m.\u001b[0m\u001b[0mcontains\u001b[0m\u001b[0;34m(\u001b[0m\u001b[0;34m'Robyn'\u001b[0m\u001b[0;34m)\u001b[0m\u001b[0;34m]\u001b[0m\u001b[0;34m\u001b[0m\u001b[0;34m\u001b[0m\u001b[0m\n\u001b[0m",
      "\u001b[0;31mAttributeError\u001b[0m: 'str' object has no attribute 'contains'"
     ]
    }
   ],
   "source": [
    "pop[str(pop['content']).contains('Robyn')]"
   ]
  },
  {
   "cell_type": "code",
   "execution_count": 61,
   "metadata": {
    "ExecuteTime": {
     "end_time": "2020-05-12T23:19:34.580223Z",
     "start_time": "2020-05-12T23:19:34.544934Z"
    }
   },
   "outputs": [
    {
     "data": {
      "text/plain": [
       "27"
      ]
     },
     "execution_count": 61,
     "metadata": {},
     "output_type": "execute_result"
    }
   ],
   "source": [
    "rob_revs = []\n",
    "for n in pop.index:\n",
    "    if 'Robyn' in pop.loc[n, 'content']:\n",
    "        rob_revs.append(n)\n",
    "len(rob_revs)"
   ]
  },
  {
   "cell_type": "code",
   "execution_count": 58,
   "metadata": {
    "ExecuteTime": {
     "end_time": "2020-05-12T23:17:30.051928Z",
     "start_time": "2020-05-12T23:17:30.022663Z"
    }
   },
   "outputs": [
    {
     "data": {
      "text/html": [
       "<div>\n",
       "<style scoped>\n",
       "    .dataframe tbody tr th:only-of-type {\n",
       "        vertical-align: middle;\n",
       "    }\n",
       "\n",
       "    .dataframe tbody tr th {\n",
       "        vertical-align: top;\n",
       "    }\n",
       "\n",
       "    .dataframe thead th {\n",
       "        text-align: right;\n",
       "    }\n",
       "</style>\n",
       "<table border=\"1\" class=\"dataframe\">\n",
       "  <thead>\n",
       "    <tr style=\"text-align: right;\">\n",
       "      <th></th>\n",
       "      <th>reviewid</th>\n",
       "      <th>content</th>\n",
       "      <th>artist</th>\n",
       "      <th>title</th>\n",
       "      <th>score</th>\n",
       "      <th>best_new_music</th>\n",
       "    </tr>\n",
       "  </thead>\n",
       "  <tbody>\n",
       "    <tr>\n",
       "      <th>200</th>\n",
       "      <td>20902</td>\n",
       "      <td>On last year's collaboration with Röyksopp, Do...</td>\n",
       "      <td>robyn</td>\n",
       "      <td>love is free</td>\n",
       "      <td>7.2</td>\n",
       "      <td>0</td>\n",
       "    </tr>\n",
       "    <tr>\n",
       "      <th>309</th>\n",
       "      <td>19358</td>\n",
       "      <td>The first studio snippet from Robyn and Röykso...</td>\n",
       "      <td>robyn</td>\n",
       "      <td>do it again</td>\n",
       "      <td>7.7</td>\n",
       "      <td>0</td>\n",
       "    </tr>\n",
       "    <tr>\n",
       "      <th>647</th>\n",
       "      <td>14917</td>\n",
       "      <td>\"Fembots have feelings, too.\" When we first he...</td>\n",
       "      <td>robyn</td>\n",
       "      <td>body talk</td>\n",
       "      <td>8.7</td>\n",
       "      <td>1</td>\n",
       "    </tr>\n",
       "    <tr>\n",
       "      <th>677</th>\n",
       "      <td>14625</td>\n",
       "      <td>The people making the best pop music in the wo...</td>\n",
       "      <td>robyn</td>\n",
       "      <td>body talk pt. 2</td>\n",
       "      <td>8.0</td>\n",
       "      <td>0</td>\n",
       "    </tr>\n",
       "    <tr>\n",
       "      <th>714</th>\n",
       "      <td>14294</td>\n",
       "      <td>\"I'm always going to feel like this person on ...</td>\n",
       "      <td>robyn</td>\n",
       "      <td>body talk pt. 1</td>\n",
       "      <td>8.5</td>\n",
       "      <td>1</td>\n",
       "    </tr>\n",
       "    <tr>\n",
       "      <th>1073</th>\n",
       "      <td>9682</td>\n",
       "      <td>\\r\\n    After several years of major-label man...</td>\n",
       "      <td>robyn</td>\n",
       "      <td>the rakamonie ep</td>\n",
       "      <td>7.8</td>\n",
       "      <td>0</td>\n",
       "    </tr>\n",
       "    <tr>\n",
       "      <th>1173</th>\n",
       "      <td>6949</td>\n",
       "      <td>Can you resist a girl who calls you a bum befo...</td>\n",
       "      <td>robyn</td>\n",
       "      <td>robyn</td>\n",
       "      <td>8.2</td>\n",
       "      <td>0</td>\n",
       "    </tr>\n",
       "  </tbody>\n",
       "</table>\n",
       "</div>"
      ],
      "text/plain": [
       "      reviewid                                            content artist  \\\n",
       "200      20902  On last year's collaboration with Röyksopp, Do...  robyn   \n",
       "309      19358  The first studio snippet from Robyn and Röykso...  robyn   \n",
       "647      14917  \"Fembots have feelings, too.\" When we first he...  robyn   \n",
       "677      14625  The people making the best pop music in the wo...  robyn   \n",
       "714      14294  \"I'm always going to feel like this person on ...  robyn   \n",
       "1073      9682  \\r\\n    After several years of major-label man...  robyn   \n",
       "1173      6949  Can you resist a girl who calls you a bum befo...  robyn   \n",
       "\n",
       "                 title  score  best_new_music  \n",
       "200       love is free    7.2               0  \n",
       "309        do it again    7.7               0  \n",
       "647          body talk    8.7               1  \n",
       "677    body talk pt. 2    8.0               0  \n",
       "714    body talk pt. 1    8.5               1  \n",
       "1073  the rakamonie ep    7.8               0  \n",
       "1173             robyn    8.2               0  "
      ]
     },
     "execution_count": 58,
     "metadata": {},
     "output_type": "execute_result"
    }
   ],
   "source": [
    "pop[pop['artist'] == 'robyn']"
   ]
  },
  {
   "cell_type": "code",
   "execution_count": 64,
   "metadata": {
    "ExecuteTime": {
     "end_time": "2020-05-12T23:21:46.693073Z",
     "start_time": "2020-05-12T23:21:46.679967Z"
    }
   },
   "outputs": [
    {
     "data": {
      "text/plain": [
       "{'ariana grande',\n",
       " 'charli xcx',\n",
       " 'icona pop',\n",
       " 'jessie j',\n",
       " 'kleerup',\n",
       " 'la bagatelle magique',\n",
       " 'lykke li',\n",
       " 'metronomy',\n",
       " 'nina sky',\n",
       " 'pandr eyez',\n",
       " 'rihanna',\n",
       " 'robyn',\n",
       " 'ryksopp',\n",
       " 'sia',\n",
       " 'the lonely island',\n",
       " 'tove lo',\n",
       " 'zhala'}"
      ]
     },
     "execution_count": 64,
     "metadata": {},
     "output_type": "execute_result"
    }
   ],
   "source": [
    "rob_comps = []\n",
    "for idx in rob_revs:\n",
    "    rob_comps.append(pop.loc[idx, 'artist'])\n",
    "set(rob_comps)"
   ]
  },
  {
   "cell_type": "markdown",
   "metadata": {},
   "source": [
    "## TSNE"
   ]
  },
  {
   "cell_type": "code",
   "execution_count": 65,
   "metadata": {
    "ExecuteTime": {
     "end_time": "2020-05-12T23:26:54.258716Z",
     "start_time": "2020-05-12T23:26:38.540524Z"
    }
   },
   "outputs": [
    {
     "name": "stderr",
     "output_type": "stream",
     "text": [
      "WARNING:matplotlib.axes._axes:'c' argument looks like a single numeric RGB or RGBA sequence, which should be avoided as value-mapping will have precedence in case its length matches with 'x' & 'y'.  Please use a 2-D array with a single row if you really want to specify the same RGB or RGBA value for all points.\n",
      "WARNING:matplotlib.axes._axes:'c' argument looks like a single numeric RGB or RGBA sequence, which should be avoided as value-mapping will have precedence in case its length matches with 'x' & 'y'.  Please use a 2-D array with a single row if you really want to specify the same RGB or RGBA value for all points.\n"
     ]
    },
    {
     "data": {
      "image/png": "[encoded data removed]",
      "text/plain": [
       "<Figure size 432x288 with 1 Axes>"
      ]
     },
     "metadata": {},
     "output_type": "display_data"
    }
   ],
   "source": [
    "# Import needed packages\n",
    "import yellowbrick\n",
    "from sklearn.feature_extraction.text import TfidfVectorizer\n",
    "from yellowbrick.text import TSNEVisualizer\n",
    "\n",
    "# Prepare the data\n",
    "tfidf = TfidfVectorizer(max_features=100)\n",
    "X = tfidf.fit_transform(pop.content)\n",
    "y = pop.best_new_music\n",
    "\n",
    "# Plot t-SNE\n",
    "tsne = TSNEVisualizer()\n",
    "tsne.fit(X, y)\n",
    "tsne.show();"
   ]
  },
  {
   "cell_type": "markdown",
   "metadata": {
    "ExecuteTime": {
     "end_time": "2020-05-12T23:34:35.783093Z",
     "start_time": "2020-05-12T23:34:35.762928Z"
    }
   },
   "source": [
    "## Other analytics"
   ]
  },
  {
   "cell_type": "code",
   "execution_count": 77,
   "metadata": {
    "ExecuteTime": {
     "end_time": "2020-05-12T23:40:13.341526Z",
     "start_time": "2020-05-12T23:40:13.323999Z"
    }
   },
   "outputs": [
    {
     "data": {
      "text/plain": [
       "artist\n",
       "abba                                      0.500000\n",
       "al green                                  0.500000\n",
       "anderson .paak                            0.500000\n",
       "annie                                     0.250000\n",
       "anohni                                    1.000000\n",
       "beyonc                                    0.400000\n",
       "big k.r.i.t.                              0.142857\n",
       "bjrk                                      0.153846\n",
       "blood orange                              0.666667\n",
       "ceo                                       0.500000\n",
       "charli xcx                                0.250000\n",
       "charlotte gainsbourg                      0.333333\n",
       "chvrches                                  0.333333\n",
       "cleaners from venus                       0.500000\n",
       "clipse                                    0.250000\n",
       "dangelo                                   1.000000\n",
       "diplo                                     0.500000\n",
       "donnie trumpet & the social experiment    1.000000\n",
       "dvsn                                      1.000000\n",
       "empress of                                1.000000\n",
       "fka twigs                                 0.666667\n",
       "frank ocean                               0.666667\n",
       "gloria ann taylor                         1.000000\n",
       "grimes                                    0.400000\n",
       "hamilton leithauser                       1.000000\n",
       "how to dress well                         0.500000\n",
       "isaac hayes                               0.500000\n",
       "james blake                               0.428571\n",
       "jamila woods                              1.000000\n",
       "jane birkin                               1.000000\n",
       "                                            ...   \n",
       "kelela                                    0.666667\n",
       "lewis                                     0.333333\n",
       "lizzy mercier descloux                    1.000000\n",
       "lykke li                                  0.666667\n",
       "m.i.a.                                    0.428571\n",
       "marvin gaye                               1.000000\n",
       "maxwell                                   0.500000\n",
       "michael jackson                           0.166667\n",
       "miguel                                    0.666667\n",
       "mulatu astatke                            0.500000\n",
       "nao                                       0.500000\n",
       "nxworries                                 1.000000\n",
       "owen pallett                              0.333333\n",
       "passion pit                               0.250000\n",
       "prince                                    0.058824\n",
       "robyn                                     0.285714\n",
       "rostam                                    1.000000\n",
       "serge gainsbourg                          0.500000\n",
       "shamir                                    0.500000\n",
       "sleigh bells                              0.250000\n",
       "solange                                   0.333333\n",
       "the isley brothers                        1.000000\n",
       "the pipettes                              0.500000\n",
       "the radio dept.                           0.500000\n",
       "the vanguard                              1.000000\n",
       "the weeknd                                0.285714\n",
       "the xx                                    0.500000\n",
       "the-dream                                 0.200000\n",
       "tune-yards                                0.333333\n",
       "van dyke parks                            0.500000\n",
       "Name: best_new_music, Length: 65, dtype: float64"
      ]
     },
     "execution_count": 77,
     "metadata": {},
     "output_type": "execute_result"
    }
   ],
   "source": [
    "best = pop.groupby('artist')['best_new_music'].mean()\n",
    "best = best[best > 0]\n",
    "best"
   ]
  },
  {
   "cell_type": "code",
   "execution_count": 80,
   "metadata": {
    "ExecuteTime": {
     "end_time": "2020-05-12T23:42:35.862529Z",
     "start_time": "2020-05-12T23:42:35.847781Z"
    },
    "scrolled": true
   },
   "outputs": [
    {
     "data": {
      "text/plain": [
       "count    838.000000\n",
       "mean       6.809286\n",
       "std        1.190483\n",
       "min        0.000000\n",
       "25%        6.300000\n",
       "50%        7.000000\n",
       "75%        7.600000\n",
       "max       10.000000\n",
       "Name: score, dtype: float64"
      ]
     },
     "execution_count": 80,
     "metadata": {},
     "output_type": "execute_result"
    }
   ],
   "source": [
    "scores = pop.groupby('artist')['score'].mean()\n",
    "scores.describe()"
   ]
  },
  {
   "cell_type": "code",
   "execution_count": 102,
   "metadata": {
    "ExecuteTime": {
     "end_time": "2020-05-12T23:54:49.608278Z",
     "start_time": "2020-05-12T23:54:49.597610Z"
    }
   },
   "outputs": [
    {
     "data": {
      "text/plain": [
       "7.933333333333334"
      ]
     },
     "execution_count": 102,
     "metadata": {},
     "output_type": "execute_result"
    }
   ],
   "source": [
    "scores['solange']"
   ]
  },
  {
   "cell_type": "code",
   "execution_count": 84,
   "metadata": {
    "ExecuteTime": {
     "end_time": "2020-05-12T23:44:05.694556Z",
     "start_time": "2020-05-12T23:44:05.682265Z"
    }
   },
   "outputs": [
    {
     "data": {
      "text/plain": [
       "artist\n",
       "dangelo            9.7\n",
       "funkadelic         9.4\n",
       "lauryn hill        9.5\n",
       "marvin gaye        9.5\n",
       "stevie wonder     10.0\n",
       "the revolution     9.3\n",
       "the vanguard       9.4\n",
       "Name: score, dtype: float64"
      ]
     },
     "execution_count": 84,
     "metadata": {},
     "output_type": "execute_result"
    }
   ],
   "source": [
    "scores[scores > 9]"
   ]
  },
  {
   "cell_type": "code",
   "execution_count": 89,
   "metadata": {
    "ExecuteTime": {
     "end_time": "2020-05-12T23:47:18.872873Z",
     "start_time": "2020-05-12T23:47:18.593192Z"
    }
   },
   "outputs": [
    {
     "data": {
      "image/png": "[encoded data removed]",
      "text/plain": [
       "<Figure size 432x288 with 1 Axes>"
      ]
     },
     "metadata": {
      "needs_background": "light"
     },
     "output_type": "display_data"
    }
   ],
   "source": [
    "scores.hist(bins=30);"
   ]
  },
  {
   "cell_type": "code",
   "execution_count": 90,
   "metadata": {
    "ExecuteTime": {
     "end_time": "2020-05-12T23:47:40.025152Z",
     "start_time": "2020-05-12T23:47:40.010213Z"
    }
   },
   "outputs": [
    {
     "data": {
      "text/plain": [
       "artist\n",
       "push kings         0.1\n",
       "travis morrison    0.0\n",
       "Name: score, dtype: float64"
      ]
     },
     "execution_count": 90,
     "metadata": {},
     "output_type": "execute_result"
    }
   ],
   "source": [
    "scores[scores < 1]"
   ]
  },
  {
   "cell_type": "code",
   "execution_count": 95,
   "metadata": {
    "ExecuteTime": {
     "end_time": "2020-05-12T23:49:09.641045Z",
     "start_time": "2020-05-12T23:49:09.631225Z"
    }
   },
   "outputs": [
    {
     "data": {
      "text/plain": [
       "1258    Travis Morrison got his ass kicked.  He tells the whole story here, about the random beatdown he suffered\\n    in front of a Gap, a humiliation so surprising he couldn't fight back.  Even cracking jokes about it to\\n    friends doesn't disguise his embarrassment, or hide the hollow in his mouth where his teeth went missing.\\n    And that's not the only crisis in Morrison's life: After nearly a decade of leading The Dismemberment Plan\\n    to indie stardom, he's watched the band slowly dissolve, and now been thrust into a solo career by default.\\n    The D-Plan's XTC- and Talking Heads-derived spaz-rock had propelled the band to rarely met heights of\\n    underground glory, but it was Morrison's bug-eyed eloquence that sealed the deal.  Their strongest album,\\n    1999's Emergency & I, brilliantly nailed the post-collegiate urban anxieties of the young, frustrated\\n    and smartassed, fluent in ironic prime-time catchphrases and all too familiar with the sensation of finding\\n    ad...\n",
       "Name: content, dtype: object"
      ]
     },
     "execution_count": 95,
     "metadata": {},
     "output_type": "execute_result"
    }
   ],
   "source": [
    "pd.set_option('max_colwidth', 1000)\n",
    "pop[pop['artist'] == 'travis morrison']['content']"
   ]
  },
  {
   "cell_type": "code",
   "execution_count": 104,
   "metadata": {
    "ExecuteTime": {
     "end_time": "2020-05-13T00:10:32.306287Z",
     "start_time": "2020-05-13T00:10:32.088298Z"
    }
   },
   "outputs": [
    {
     "data": {
      "text/html": [
       "<div>\n",
       "<style scoped>\n",
       "    .dataframe tbody tr th:only-of-type {\n",
       "        vertical-align: middle;\n",
       "    }\n",
       "\n",
       "    .dataframe tbody tr th {\n",
       "        vertical-align: top;\n",
       "    }\n",
       "\n",
       "    .dataframe thead th {\n",
       "        text-align: right;\n",
       "    }\n",
       "</style>\n",
       "<table border=\"1\" class=\"dataframe\">\n",
       "  <thead>\n",
       "    <tr style=\"text-align: right;\">\n",
       "      <th></th>\n",
       "      <th>reviewid</th>\n",
       "      <th>artist</th>\n",
       "      <th>title</th>\n",
       "      <th>score</th>\n",
       "      <th>best_new_music</th>\n",
       "      <th>genre</th>\n",
       "    </tr>\n",
       "  </thead>\n",
       "  <tbody>\n",
       "    <tr>\n",
       "      <th>0</th>\n",
       "      <td>22703</td>\n",
       "      <td>massive attack</td>\n",
       "      <td>mezzanine</td>\n",
       "      <td>9.3</td>\n",
       "      <td>0</td>\n",
       "      <td>electronic</td>\n",
       "    </tr>\n",
       "    <tr>\n",
       "      <th>1</th>\n",
       "      <td>22721</td>\n",
       "      <td>krallice</td>\n",
       "      <td>prelapsarian</td>\n",
       "      <td>7.9</td>\n",
       "      <td>0</td>\n",
       "      <td>metal</td>\n",
       "    </tr>\n",
       "    <tr>\n",
       "      <th>2</th>\n",
       "      <td>22659</td>\n",
       "      <td>uranium club</td>\n",
       "      <td>all of them naturals</td>\n",
       "      <td>7.3</td>\n",
       "      <td>0</td>\n",
       "      <td>rock</td>\n",
       "    </tr>\n",
       "    <tr>\n",
       "      <th>3</th>\n",
       "      <td>22661</td>\n",
       "      <td>kleenex</td>\n",
       "      <td>first songs</td>\n",
       "      <td>9.0</td>\n",
       "      <td>1</td>\n",
       "      <td>rock</td>\n",
       "    </tr>\n",
       "    <tr>\n",
       "      <th>4</th>\n",
       "      <td>22661</td>\n",
       "      <td>liliput</td>\n",
       "      <td>first songs</td>\n",
       "      <td>9.0</td>\n",
       "      <td>1</td>\n",
       "      <td>rock</td>\n",
       "    </tr>\n",
       "  </tbody>\n",
       "</table>\n",
       "</div>"
      ],
      "text/plain": [
       "   reviewid          artist                 title  score  best_new_music  \\\n",
       "0     22703  massive attack             mezzanine    9.3               0   \n",
       "1     22721        krallice          prelapsarian    7.9               0   \n",
       "2     22659    uranium club  all of them naturals    7.3               0   \n",
       "3     22661         kleenex           first songs    9.0               1   \n",
       "4     22661         liliput           first songs    9.0               1   \n",
       "\n",
       "        genre  \n",
       "0  electronic  \n",
       "1       metal  \n",
       "2        rock  \n",
       "3        rock  \n",
       "4        rock  "
      ]
     },
     "execution_count": 104,
     "metadata": {},
     "output_type": "execute_result"
    }
   ],
   "source": [
    "# Query the genres and reviews tables and load the data\n",
    "cur.execute(\"\"\"\n",
    "    SELECT r.reviewid, a.artist, r.title, r.score, r.best_new_music, g.genre\n",
    "    FROM reviews r\n",
    "    LEFT JOIN artists a\n",
    "    ON r.reviewid = a.reviewid\n",
    "    LEFT JOIN genres g\n",
    "    ON r.reviewid = g.reviewid\n",
    "            ;\"\"\")\n",
    "all_genres = pd.DataFrame(cur.fetchall())\n",
    "all_genres.columns = [x[0] for x in cur.description]\n",
    "all_genres.head()"
   ]
  },
  {
   "cell_type": "code",
   "execution_count": 105,
   "metadata": {
    "ExecuteTime": {
     "end_time": "2020-05-13T00:10:54.402718Z",
     "start_time": "2020-05-13T00:10:54.382139Z"
    }
   },
   "outputs": [
    {
     "data": {
      "text/plain": [
       "genre\n",
       "electronic      6.923048\n",
       "experimental    7.334545\n",
       "folk/country    7.207639\n",
       "global          7.427869\n",
       "jazz            7.323171\n",
       "metal           6.940782\n",
       "pop/r&b         6.894969\n",
       "rap             6.900547\n",
       "rock            6.943607\n",
       "Name: score, dtype: float64"
      ]
     },
     "execution_count": 105,
     "metadata": {},
     "output_type": "execute_result"
    }
   ],
   "source": [
    "all_genres.groupby('genre')['score'].mean()"
   ]
  },
  {
   "cell_type": "code",
   "execution_count": 106,
   "metadata": {
    "ExecuteTime": {
     "end_time": "2020-05-13T00:11:56.119597Z",
     "start_time": "2020-05-13T00:11:56.102096Z"
    },
    "scrolled": true
   },
   "outputs": [
    {
     "data": {
      "text/plain": [
       "genre\n",
       "electronic      0.047047\n",
       "experimental    0.063636\n",
       "folk/country    0.037500\n",
       "global          0.040984\n",
       "jazz            0.036585\n",
       "metal           0.029050\n",
       "pop/r&b         0.060503\n",
       "rap             0.048632\n",
       "rock            0.055521\n",
       "Name: best_new_music, dtype: float64"
      ]
     },
     "execution_count": 106,
     "metadata": {},
     "output_type": "execute_result"
    }
   ],
   "source": [
    "all_genres.groupby('genre')['best_new_music'].mean()"
   ]
  },
  {
   "cell_type": "code",
   "execution_count": 117,
   "metadata": {
    "ExecuteTime": {
     "end_time": "2020-05-13T00:19:37.814781Z",
     "start_time": "2020-05-13T00:19:37.736217Z"
    }
   },
   "outputs": [
    {
     "data": {
      "text/html": [
       "\n",
       "\n",
       "\n",
       "\n",
       "\n",
       "\n",
       "  <div class=\"bk-root\" id=\"17b80c05-92c9-4ce8-9024-c38d81bbe403\" data-root-id=\"1171\"></div>\n"
      ]
     },
     "metadata": {},
     "output_type": "display_data"
    },
    {
     "data": {
      "application/javascript": [
       "(function(root) {\n",
       "  function embed_document(root) {\n",
       "    \n",
       "  var docs_json = {\"8d71f51e-c87b-4d1f-b8c2-dfb9d430d62f\":{\"roots\":{\"references\":[{\"attributes\":{\"above\":[{\"id\":\"1196\",\"type\":\"Title\"}],\"background_fill_color\":{\"value\":\"white\"},\"below\":[{\"id\":\"1180\",\"type\":\"CategoricalAxis\"},{\"id\":\"1195\",\"type\":\"Label\"}],\"border_fill_color\":{\"value\":\"white\"},\"center\":[{\"id\":\"1183\",\"type\":\"Grid\"},{\"id\":\"1188\",\"type\":\"Grid\"}],\"left\":[{\"id\":\"1184\",\"type\":\"LinearAxis\"}],\"min_border_bottom\":60,\"min_border_left\":60,\"min_border_right\":60,\"min_border_top\":40,\"outline_line_color\":{\"value\":\"white\"},\"plot_height\":540,\"plot_width\":960,\"renderers\":[{\"id\":\"1205\",\"type\":\"GlyphRenderer\"}],\"title\":{\"id\":\"1192\",\"type\":\"Title\"},\"toolbar\":{\"id\":\"1190\",\"type\":\"Toolbar\"},\"x_range\":{\"id\":\"1172\",\"type\":\"FactorRange\"},\"x_scale\":{\"id\":\"1176\",\"type\":\"CategoricalScale\"},\"y_range\":{\"id\":\"1174\",\"type\":\"DataRange1d\"},\"y_scale\":{\"id\":\"1178\",\"type\":\"LinearScale\"}},\"id\":\"1171\",\"subtype\":\"Figure\",\"type\":\"Plot\"},{\"attributes\":{\"level\":\"overlay\",\"name\":\"subtitle\",\"text\":\"\",\"text_align\":\"right\",\"text_color\":{\"value\":\"#898989\"},\"text_font_size\":{\"value\":\"10px\"},\"x\":864.0,\"x_units\":\"screen\",\"y\":0,\"y_units\":\"screen\"},\"id\":\"1195\",\"type\":\"Label\"},{\"attributes\":{\"fill_alpha\":{\"value\":0.1},\"fill_color\":{\"value\":\"#1f77b4\"},\"line_alpha\":{\"value\":0.1},\"line_color\":{\"value\":\"#1f77b4\"},\"top\":{\"field\":\"score\"},\"width\":{\"value\":0.9},\"x\":{\"field\":\"factors\"}},\"id\":\"1204\",\"type\":\"VBar\"},{\"attributes\":{},\"id\":\"1219\",\"type\":\"CategoricalTickFormatter\"},{\"attributes\":{\"callback\":null,\"data\":{\"factors\":[\"global\",\"experimental\",\"jazz\",\"folk/country\",\"rock\",\"metal\",\"electronic\",\"rap\",\"pop/r&b\"],\"index\":[0,1,2,3,4,5,6,7,8],\"score\":{\"__ndarray__\":\"byehQCO2HUBEMWkVk1YdQFDUrkTtSh1AQZ/0SZ/UHEC4DF3+QMYbQHYnimNcwxtAGgPsgTOxG0BRILIFKZobQMDWUtxylBtA\",\"dtype\":\"float64\",\"shape\":[9]}},\"name\":\"Series:\",\"selected\":{\"id\":\"1221\",\"type\":\"Selection\"},\"selection_policy\":{\"id\":\"1220\",\"type\":\"UnionRenderers\"}},\"id\":\"1199\",\"type\":\"ColumnDataSource\"},{\"attributes\":{\"dimension\":1,\"grid_line_color\":null,\"ticker\":{\"id\":\"1185\",\"type\":\"BasicTicker\"}},\"id\":\"1188\",\"type\":\"Grid\"},{\"attributes\":{},\"id\":\"1185\",\"type\":\"BasicTicker\"},{\"attributes\":{\"data_source\":{\"id\":\"1199\",\"type\":\"ColumnDataSource\"},\"glyph\":{\"id\":\"1203\",\"type\":\"VBar\"},\"hover_glyph\":null,\"muted_glyph\":null,\"nonselection_glyph\":{\"id\":\"1204\",\"type\":\"VBar\"},\"selection_glyph\":null,\"view\":{\"id\":\"1206\",\"type\":\"CDSView\"}},\"id\":\"1205\",\"type\":\"GlyphRenderer\"},{\"attributes\":{\"axis_label_text_color\":{\"value\":\"#666666\"},\"axis_label_text_font_size\":{\"value\":\"11pt\"},\"axis_label_text_font_style\":\"bold\",\"axis_line_color\":{\"value\":\"#C0C0C0\"},\"formatter\":{\"id\":\"1200\",\"type\":\"NumeralTickFormatter\"},\"major_label_text_color\":{\"value\":\"#898989\"},\"major_label_text_font_size\":{\"value\":\"10pt\"},\"major_tick_in\":0,\"major_tick_line_color\":{\"value\":\"#C0C0C0\"},\"major_tick_out\":4,\"minor_tick_line_color\":{\"value\":\"#C0C0C0\"},\"minor_tick_out\":1,\"ticker\":{\"id\":\"1185\",\"type\":\"BasicTicker\"}},\"id\":\"1184\",\"type\":\"LinearAxis\"},{\"attributes\":{\"source\":{\"id\":\"1199\",\"type\":\"ColumnDataSource\"}},\"id\":\"1206\",\"type\":\"CDSView\"},{\"attributes\":{\"grid_line_color\":null,\"ticker\":{\"id\":\"1181\",\"type\":\"CategoricalTicker\"}},\"id\":\"1183\",\"type\":\"Grid\"},{\"attributes\":{},\"id\":\"1181\",\"type\":\"CategoricalTicker\"},{\"attributes\":{\"text\":\"\",\"text_color\":{\"value\":\"#666666\"},\"text_font_size\":{\"value\":\"12pt\"}},\"id\":\"1196\",\"type\":\"Title\"},{\"attributes\":{\"axis_label_text_color\":{\"value\":\"#666666\"},\"axis_label_text_font_size\":{\"value\":\"11pt\"},\"axis_label_text_font_style\":\"bold\",\"axis_line_color\":{\"value\":\"#C0C0C0\"},\"formatter\":{\"id\":\"1219\",\"type\":\"CategoricalTickFormatter\"},\"group_text_font_size\":{\"value\":\"11pt\"},\"major_label_text_color\":{\"value\":\"#898989\"},\"major_label_text_font_size\":{\"value\":\"10pt\"},\"major_tick_in\":0,\"major_tick_line_color\":{\"value\":\"#C0C0C0\"},\"major_tick_out\":4,\"minor_tick_line_color\":{\"value\":\"#C0C0C0\"},\"minor_tick_out\":1,\"separator_line_alpha\":{\"value\":0},\"subgroup_text_font_size\":{\"value\":\"11pt\"},\"ticker\":{\"id\":\"1181\",\"type\":\"CategoricalTicker\"}},\"id\":\"1180\",\"type\":\"CategoricalAxis\"},{\"attributes\":{},\"id\":\"1220\",\"type\":\"UnionRenderers\"},{\"attributes\":{},\"id\":\"1221\",\"type\":\"Selection\"},{\"attributes\":{},\"id\":\"1189\",\"type\":\"SaveTool\"},{\"attributes\":{\"active_drag\":null,\"active_inspect\":\"auto\",\"active_multi\":null,\"active_scroll\":\"auto\",\"active_tap\":\"auto\",\"logo\":null,\"tools\":[{\"id\":\"1189\",\"type\":\"SaveTool\"}]},\"id\":\"1190\",\"type\":\"Toolbar\"},{\"attributes\":{\"format\":\"0,0.[0]\"},\"id\":\"1200\",\"type\":\"NumeralTickFormatter\"},{\"attributes\":{\"text\":\"Mean score by genre\",\"text_color\":{\"value\":\"#333333\"},\"text_font_size\":{\"value\":\"18pt\"}},\"id\":\"1192\",\"type\":\"Title\"},{\"attributes\":{\"callback\":null,\"factor_padding\":0.25,\"factors\":[\"global\",\"experimental\",\"jazz\",\"folk/country\",\"rock\",\"metal\",\"electronic\",\"rap\",\"pop/r&b\"]},\"id\":\"1172\",\"type\":\"FactorRange\"},{\"attributes\":{},\"id\":\"1178\",\"type\":\"LinearScale\"},{\"attributes\":{\"callback\":null,\"end\":null,\"start\":0},\"id\":\"1174\",\"type\":\"DataRange1d\"},{\"attributes\":{\"fill_color\":{\"value\":\"#1f77b4\"},\"line_color\":{\"value\":\"white\"},\"top\":{\"field\":\"score\"},\"width\":{\"value\":0.9},\"x\":{\"field\":\"factors\"}},\"id\":\"1203\",\"type\":\"VBar\"},{\"attributes\":{},\"id\":\"1176\",\"type\":\"CategoricalScale\"}],\"root_ids\":[\"1171\"]},\"title\":\"Bokeh Application\",\"version\":\"1.4.0\"}};\n",
       "  var render_items = [{\"docid\":\"8d71f51e-c87b-4d1f-b8c2-dfb9d430d62f\",\"roots\":{\"1171\":\"17b80c05-92c9-4ce8-9024-c38d81bbe403\"}}];\n",
       "  root.Bokeh.embed.embed_items_notebook(docs_json, render_items);\n",
       "\n",
       "  }\n",
       "  if (root.Bokeh !== undefined) {\n",
       "    embed_document(root);\n",
       "  } else {\n",
       "    var attempts = 0;\n",
       "    var timer = setInterval(function(root) {\n",
       "      if (root.Bokeh !== undefined) {\n",
       "        clearInterval(timer);\n",
       "        embed_document(root);\n",
       "      } else {\n",
       "        attempts++;\n",
       "        if (attempts > 100) {\n",
       "          clearInterval(timer);\n",
       "          console.log(\"Bokeh: ERROR: Unable to run BokehJS code because BokehJS library is missing\");\n",
       "        }\n",
       "      }\n",
       "    }, 10, root)\n",
       "  }\n",
       "})(window);"
      ],
      "application/vnd.bokehjs_exec.v0+json": ""
     },
     "metadata": {
      "application/vnd.bokehjs_exec.v0+json": {
       "id": "1171"
      }
     },
     "output_type": "display_data"
    }
   ],
   "source": [
    "mean_scores = all_genres.groupby('genre')['score'].mean().reset_index()\n",
    "\n",
    "chart = chartify.Chart(blank_labels=True, x_axis_type='categorical')\n",
    "chart.plot.bar(data_frame=mean_scores, categorical_columns='genre',\n",
    "               numeric_column='score')\n",
    "chart.set_title('Mean score by genre')\n",
    "chart.show()"
   ]
  },
  {
   "cell_type": "code",
   "execution_count": 122,
   "metadata": {
    "ExecuteTime": {
     "end_time": "2020-05-13T00:22:34.829357Z",
     "start_time": "2020-05-13T00:22:34.731978Z"
    }
   },
   "outputs": [
    {
     "data": {
      "text/html": [
       "\n",
       "\n",
       "\n",
       "\n",
       "\n",
       "\n",
       "  <div class=\"bk-root\" id=\"1466fc4c-aeaf-41bf-aaca-03b839d8f23f\" data-root-id=\"1613\"></div>\n"
      ]
     },
     "metadata": {},
     "output_type": "display_data"
    },
    {
     "data": {
      "application/javascript": [
       "(function(root) {\n",
       "  function embed_document(root) {\n",
       "    \n",
       "  var docs_json = {\"87d640cc-e8b4-42fe-bab8-efe0da93c9d5\":{\"roots\":{\"references\":[{\"attributes\":{\"above\":[{\"id\":\"1638\",\"type\":\"Title\"}],\"background_fill_color\":{\"value\":\"white\"},\"below\":[{\"id\":\"1622\",\"type\":\"CategoricalAxis\"},{\"id\":\"1637\",\"type\":\"Label\"}],\"border_fill_color\":{\"value\":\"white\"},\"center\":[{\"id\":\"1625\",\"type\":\"Grid\"},{\"id\":\"1630\",\"type\":\"Grid\"}],\"left\":[{\"id\":\"1626\",\"type\":\"LinearAxis\"}],\"min_border_bottom\":60,\"min_border_left\":60,\"min_border_right\":60,\"min_border_top\":40,\"outline_line_color\":{\"value\":\"white\"},\"plot_height\":540,\"plot_width\":960,\"renderers\":[{\"id\":\"1647\",\"type\":\"GlyphRenderer\"}],\"title\":{\"id\":\"1634\",\"type\":\"Title\"},\"toolbar\":{\"id\":\"1632\",\"type\":\"Toolbar\"},\"x_range\":{\"id\":\"1614\",\"type\":\"FactorRange\"},\"x_scale\":{\"id\":\"1618\",\"type\":\"CategoricalScale\"},\"y_range\":{\"id\":\"1616\",\"type\":\"DataRange1d\"},\"y_scale\":{\"id\":\"1620\",\"type\":\"LinearScale\"}},\"id\":\"1613\",\"subtype\":\"Figure\",\"type\":\"Plot\"},{\"attributes\":{\"callback\":null,\"factor_padding\":0.25,\"factors\":[\"experimental\",\"pop/r&b\",\"rock\",\"rap\",\"electronic\",\"global\",\"folk/country\",\"jazz\",\"metal\"]},\"id\":\"1614\",\"type\":\"FactorRange\"},{\"attributes\":{},\"id\":\"1620\",\"type\":\"LinearScale\"},{\"attributes\":{\"fill_alpha\":{\"value\":0.1},\"fill_color\":{\"value\":\"#1f77b4\"},\"line_alpha\":{\"value\":0.1},\"line_color\":{\"value\":\"#1f77b4\"},\"top\":{\"field\":\"best_new_music\"},\"width\":{\"value\":0.9},\"x\":{\"field\":\"factors\"}},\"id\":\"1646\",\"type\":\"VBar\"},{\"attributes\":{\"data_source\":{\"id\":\"1641\",\"type\":\"ColumnDataSource\"},\"glyph\":{\"id\":\"1645\",\"type\":\"VBar\"},\"hover_glyph\":null,\"muted_glyph\":null,\"nonselection_glyph\":{\"id\":\"1646\",\"type\":\"VBar\"},\"selection_glyph\":null,\"view\":{\"id\":\"1648\",\"type\":\"CDSView\"}},\"id\":\"1647\",\"type\":\"GlyphRenderer\"},{\"attributes\":{\"axis_label_text_color\":{\"value\":\"#666666\"},\"axis_label_text_font_size\":{\"value\":\"11pt\"},\"axis_label_text_font_style\":\"bold\",\"axis_line_color\":{\"value\":\"#C0C0C0\"},\"formatter\":{\"id\":\"1689\",\"type\":\"CategoricalTickFormatter\"},\"group_text_font_size\":{\"value\":\"11pt\"},\"major_label_text_color\":{\"value\":\"#898989\"},\"major_label_text_font_size\":{\"value\":\"10pt\"},\"major_tick_in\":0,\"major_tick_line_color\":{\"value\":\"#C0C0C0\"},\"major_tick_out\":4,\"minor_tick_line_color\":{\"value\":\"#C0C0C0\"},\"minor_tick_out\":1,\"separator_line_alpha\":{\"value\":0},\"subgroup_text_font_size\":{\"value\":\"11pt\"},\"ticker\":{\"id\":\"1623\",\"type\":\"CategoricalTicker\"}},\"id\":\"1622\",\"type\":\"CategoricalAxis\"},{\"attributes\":{\"dimension\":1,\"grid_line_color\":null,\"ticker\":{\"id\":\"1627\",\"type\":\"BasicTicker\"}},\"id\":\"1630\",\"type\":\"Grid\"},{\"attributes\":{\"source\":{\"id\":\"1641\",\"type\":\"ColumnDataSource\"}},\"id\":\"1648\",\"type\":\"CDSView\"},{\"attributes\":{},\"id\":\"1627\",\"type\":\"BasicTicker\"},{\"attributes\":{\"text\":\"Percent of albums rated \\\"Best New Music\\\" by genre\",\"text_color\":{\"value\":\"#333333\"},\"text_font_size\":{\"value\":\"18pt\"}},\"id\":\"1634\",\"type\":\"Title\"},{\"attributes\":{},\"id\":\"1623\",\"type\":\"CategoricalTicker\"},{\"attributes\":{},\"id\":\"1689\",\"type\":\"CategoricalTickFormatter\"},{\"attributes\":{\"active_drag\":null,\"active_inspect\":\"auto\",\"active_multi\":null,\"active_scroll\":\"auto\",\"active_tap\":\"auto\",\"logo\":null,\"tools\":[{\"id\":\"1631\",\"type\":\"SaveTool\"}]},\"id\":\"1632\",\"type\":\"Toolbar\"},{\"attributes\":{\"level\":\"overlay\",\"name\":\"subtitle\",\"text\":\"\",\"text_align\":\"right\",\"text_color\":{\"value\":\"#898989\"},\"text_font_size\":{\"value\":\"10px\"},\"x\":864.0,\"x_units\":\"screen\",\"y\":0,\"y_units\":\"screen\"},\"id\":\"1637\",\"type\":\"Label\"},{\"attributes\":{\"callback\":null,\"data\":{\"best_new_music\":{\"__ndarray__\":\"SpCnBHlKsD9XdqjIQfquP6UMIWE+baw/PzfxelLmqD9pgeHwjBaoP8kQrKPN+6Q/MzMzMzMzoz+7ErUrUbuiP+kupD5bv50/\",\"dtype\":\"float64\",\"shape\":[9]},\"factors\":[\"experimental\",\"pop/r&b\",\"rock\",\"rap\",\"electronic\",\"global\",\"folk/country\",\"jazz\",\"metal\"],\"index\":[0,1,2,3,4,5,6,7,8]},\"name\":\"Series:\",\"selected\":{\"id\":\"1691\",\"type\":\"Selection\"},\"selection_policy\":{\"id\":\"1690\",\"type\":\"UnionRenderers\"}},\"id\":\"1641\",\"type\":\"ColumnDataSource\"},{\"attributes\":{\"callback\":null,\"end\":null,\"start\":0},\"id\":\"1616\",\"type\":\"DataRange1d\"},{\"attributes\":{\"format\":\"0,0.[000]\"},\"id\":\"1642\",\"type\":\"NumeralTickFormatter\"},{\"attributes\":{},\"id\":\"1618\",\"type\":\"CategoricalScale\"},{\"attributes\":{\"text\":\"\",\"text_color\":{\"value\":\"#666666\"},\"text_font_size\":{\"value\":\"12pt\"}},\"id\":\"1638\",\"type\":\"Title\"},{\"attributes\":{},\"id\":\"1691\",\"type\":\"Selection\"},{\"attributes\":{},\"id\":\"1690\",\"type\":\"UnionRenderers\"},{\"attributes\":{\"fill_color\":{\"value\":\"#1f77b4\"},\"line_color\":{\"value\":\"white\"},\"top\":{\"field\":\"best_new_music\"},\"width\":{\"value\":0.9},\"x\":{\"field\":\"factors\"}},\"id\":\"1645\",\"type\":\"VBar\"},{\"attributes\":{\"axis_label_text_color\":{\"value\":\"#666666\"},\"axis_label_text_font_size\":{\"value\":\"11pt\"},\"axis_label_text_font_style\":\"bold\",\"axis_line_color\":{\"value\":\"#C0C0C0\"},\"formatter\":{\"id\":\"1642\",\"type\":\"NumeralTickFormatter\"},\"major_label_text_color\":{\"value\":\"#898989\"},\"major_label_text_font_size\":{\"value\":\"10pt\"},\"major_tick_in\":0,\"major_tick_line_color\":{\"value\":\"#C0C0C0\"},\"major_tick_out\":4,\"minor_tick_line_color\":{\"value\":\"#C0C0C0\"},\"minor_tick_out\":1,\"ticker\":{\"id\":\"1627\",\"type\":\"BasicTicker\"}},\"id\":\"1626\",\"type\":\"LinearAxis\"},{\"attributes\":{\"grid_line_color\":null,\"ticker\":{\"id\":\"1623\",\"type\":\"CategoricalTicker\"}},\"id\":\"1625\",\"type\":\"Grid\"},{\"attributes\":{},\"id\":\"1631\",\"type\":\"SaveTool\"}],\"root_ids\":[\"1613\"]},\"title\":\"Bokeh Application\",\"version\":\"1.4.0\"}};\n",
       "  var render_items = [{\"docid\":\"87d640cc-e8b4-42fe-bab8-efe0da93c9d5\",\"roots\":{\"1613\":\"1466fc4c-aeaf-41bf-aaca-03b839d8f23f\"}}];\n",
       "  root.Bokeh.embed.embed_items_notebook(docs_json, render_items);\n",
       "\n",
       "  }\n",
       "  if (root.Bokeh !== undefined) {\n",
       "    embed_document(root);\n",
       "  } else {\n",
       "    var attempts = 0;\n",
       "    var timer = setInterval(function(root) {\n",
       "      if (root.Bokeh !== undefined) {\n",
       "        clearInterval(timer);\n",
       "        embed_document(root);\n",
       "      } else {\n",
       "        attempts++;\n",
       "        if (attempts > 100) {\n",
       "          clearInterval(timer);\n",
       "          console.log(\"Bokeh: ERROR: Unable to run BokehJS code because BokehJS library is missing\");\n",
       "        }\n",
       "      }\n",
       "    }, 10, root)\n",
       "  }\n",
       "})(window);"
      ],
      "application/vnd.bokehjs_exec.v0+json": ""
     },
     "metadata": {
      "application/vnd.bokehjs_exec.v0+json": {
       "id": "1613"
      }
     },
     "output_type": "display_data"
    }
   ],
   "source": [
    "mean_best = all_genres.groupby('genre')['best_new_music'].mean().reset_index()\n",
    "\n",
    "chart = chartify.Chart(blank_labels=True, x_axis_type='categorical')\n",
    "chart.plot.bar(data_frame=mean_best, categorical_columns='genre',\n",
    "               numeric_column='best_new_music')\n",
    "chart.set_title('Percent of albums rated \"Best New Music\" by genre')\n",
    "chart.show()"
   ]
  },
  {
   "cell_type": "code",
   "execution_count": 121,
   "metadata": {
    "ExecuteTime": {
     "end_time": "2020-05-13T00:21:45.069532Z",
     "start_time": "2020-05-13T00:21:44.983390Z"
    }
   },
   "outputs": [
    {
     "data": {
      "text/html": [
       "\n",
       "\n",
       "\n",
       "\n",
       "\n",
       "\n",
       "  <div class=\"bk-root\" id=\"61a245a2-0311-4d35-9c42-90e3a13b3c27\" data-root-id=\"1499\"></div>\n"
      ]
     },
     "metadata": {},
     "output_type": "display_data"
    },
    {
     "data": {
      "application/javascript": [
       "(function(root) {\n",
       "  function embed_document(root) {\n",
       "    \n",
       "  var docs_json = {\"893ab7c6-9e39-4d6f-9c9f-c09bfb451694\":{\"roots\":{\"references\":[{\"attributes\":{\"above\":[{\"id\":\"1524\",\"type\":\"Title\"}],\"background_fill_color\":{\"value\":\"white\"},\"below\":[{\"id\":\"1508\",\"type\":\"CategoricalAxis\"},{\"id\":\"1523\",\"type\":\"Label\"}],\"border_fill_color\":{\"value\":\"white\"},\"center\":[{\"id\":\"1511\",\"type\":\"Grid\"},{\"id\":\"1516\",\"type\":\"Grid\"}],\"left\":[{\"id\":\"1512\",\"type\":\"LinearAxis\"}],\"min_border_bottom\":60,\"min_border_left\":60,\"min_border_right\":60,\"min_border_top\":40,\"outline_line_color\":{\"value\":\"white\"},\"plot_height\":540,\"plot_width\":960,\"renderers\":[{\"id\":\"1533\",\"type\":\"GlyphRenderer\"}],\"title\":{\"id\":\"1520\",\"type\":\"Title\"},\"toolbar\":{\"id\":\"1518\",\"type\":\"Toolbar\"},\"x_range\":{\"id\":\"1500\",\"type\":\"FactorRange\"},\"x_scale\":{\"id\":\"1504\",\"type\":\"CategoricalScale\"},\"y_range\":{\"id\":\"1502\",\"type\":\"DataRange1d\"},\"y_scale\":{\"id\":\"1506\",\"type\":\"LinearScale\"}},\"id\":\"1499\",\"subtype\":\"Figure\",\"type\":\"Plot\"},{\"attributes\":{\"active_drag\":null,\"active_inspect\":\"auto\",\"active_multi\":null,\"active_scroll\":\"auto\",\"active_tap\":\"auto\",\"logo\":null,\"tools\":[{\"id\":\"1517\",\"type\":\"SaveTool\"}]},\"id\":\"1518\",\"type\":\"Toolbar\"},{\"attributes\":{\"axis_label_text_color\":{\"value\":\"#666666\"},\"axis_label_text_font_size\":{\"value\":\"11pt\"},\"axis_label_text_font_style\":\"bold\",\"axis_line_color\":{\"value\":\"#C0C0C0\"},\"formatter\":{\"id\":\"1568\",\"type\":\"CategoricalTickFormatter\"},\"group_text_font_size\":{\"value\":\"11pt\"},\"major_label_text_color\":{\"value\":\"#898989\"},\"major_label_text_font_size\":{\"value\":\"10pt\"},\"major_tick_in\":0,\"major_tick_line_color\":{\"value\":\"#C0C0C0\"},\"major_tick_out\":4,\"minor_tick_line_color\":{\"value\":\"#C0C0C0\"},\"minor_tick_out\":1,\"separator_line_alpha\":{\"value\":0},\"subgroup_text_font_size\":{\"value\":\"11pt\"},\"ticker\":{\"id\":\"1509\",\"type\":\"CategoricalTicker\"}},\"id\":\"1508\",\"type\":\"CategoricalAxis\"},{\"attributes\":{},\"id\":\"1517\",\"type\":\"SaveTool\"},{\"attributes\":{\"text\":\"Number of reviews by genre\",\"text_color\":{\"value\":\"#333333\"},\"text_font_size\":{\"value\":\"18pt\"}},\"id\":\"1520\",\"type\":\"Title\"},{\"attributes\":{\"axis_label_text_color\":{\"value\":\"#666666\"},\"axis_label_text_font_size\":{\"value\":\"11pt\"},\"axis_label_text_font_style\":\"bold\",\"axis_line_color\":{\"value\":\"#C0C0C0\"},\"formatter\":{\"id\":\"1528\",\"type\":\"NumeralTickFormatter\"},\"major_label_text_color\":{\"value\":\"#898989\"},\"major_label_text_font_size\":{\"value\":\"10pt\"},\"major_tick_in\":0,\"major_tick_line_color\":{\"value\":\"#C0C0C0\"},\"major_tick_out\":4,\"minor_tick_line_color\":{\"value\":\"#C0C0C0\"},\"minor_tick_out\":1,\"ticker\":{\"id\":\"1513\",\"type\":\"BasicTicker\"}},\"id\":\"1512\",\"type\":\"LinearAxis\"},{\"attributes\":{\"dimension\":1,\"grid_line_color\":null,\"ticker\":{\"id\":\"1513\",\"type\":\"BasicTicker\"}},\"id\":\"1516\",\"type\":\"Grid\"},{\"attributes\":{\"fill_color\":{\"value\":\"#1f77b4\"},\"line_color\":{\"value\":\"white\"},\"top\":{\"field\":\"reviewid\"},\"width\":{\"value\":0.9},\"x\":{\"field\":\"factors\"}},\"id\":\"1531\",\"type\":\"VBar\"},{\"attributes\":{\"text\":\"\",\"text_color\":{\"value\":\"#666666\"},\"text_font_size\":{\"value\":\"12pt\"}},\"id\":\"1524\",\"type\":\"Title\"},{\"attributes\":{\"level\":\"overlay\",\"name\":\"subtitle\",\"text\":\"\",\"text_align\":\"right\",\"text_color\":{\"value\":\"#898989\"},\"text_font_size\":{\"value\":\"10px\"},\"x\":864.0,\"x_units\":\"screen\",\"y\":0,\"y_units\":\"screen\"},\"id\":\"1523\",\"type\":\"Label\"},{\"attributes\":{\"format\":\"0,0.[0000]\"},\"id\":\"1528\",\"type\":\"NumeralTickFormatter\"},{\"attributes\":{},\"id\":\"1570\",\"type\":\"Selection\"},{\"attributes\":{\"callback\":null,\"end\":null,\"start\":0},\"id\":\"1502\",\"type\":\"DataRange1d\"},{\"attributes\":{},\"id\":\"1513\",\"type\":\"BasicTicker\"},{\"attributes\":{\"fill_alpha\":{\"value\":0.1},\"fill_color\":{\"value\":\"#1f77b4\"},\"line_alpha\":{\"value\":0.1},\"line_color\":{\"value\":\"#1f77b4\"},\"top\":{\"field\":\"reviewid\"},\"width\":{\"value\":0.9},\"x\":{\"field\":\"factors\"}},\"id\":\"1532\",\"type\":\"VBar\"},{\"attributes\":{},\"id\":\"1504\",\"type\":\"CategoricalScale\"},{\"attributes\":{},\"id\":\"1568\",\"type\":\"CategoricalTickFormatter\"},{\"attributes\":{\"callback\":null,\"data\":{\"factors\":[\"rock\",\"electronic\",\"experimental\",\"rap\",\"pop/r&b\",\"metal\",\"folk/country\",\"jazz\",\"global\"],\"index\":[0,1,2,3,4,5,6,7,8],\"reviewid\":[9636,3996,1980,1645,1471,895,720,492,244]},\"name\":\"Series:\",\"selected\":{\"id\":\"1570\",\"type\":\"Selection\"},\"selection_policy\":{\"id\":\"1569\",\"type\":\"UnionRenderers\"}},\"id\":\"1527\",\"type\":\"ColumnDataSource\"},{\"attributes\":{\"data_source\":{\"id\":\"1527\",\"type\":\"ColumnDataSource\"},\"glyph\":{\"id\":\"1531\",\"type\":\"VBar\"},\"hover_glyph\":null,\"muted_glyph\":null,\"nonselection_glyph\":{\"id\":\"1532\",\"type\":\"VBar\"},\"selection_glyph\":null,\"view\":{\"id\":\"1534\",\"type\":\"CDSView\"}},\"id\":\"1533\",\"type\":\"GlyphRenderer\"},{\"attributes\":{},\"id\":\"1506\",\"type\":\"LinearScale\"},{\"attributes\":{\"callback\":null,\"factor_padding\":0.25,\"factors\":[\"rock\",\"electronic\",\"experimental\",\"rap\",\"pop/r&b\",\"metal\",\"folk/country\",\"jazz\",\"global\"]},\"id\":\"1500\",\"type\":\"FactorRange\"},{\"attributes\":{},\"id\":\"1509\",\"type\":\"CategoricalTicker\"},{\"attributes\":{\"grid_line_color\":null,\"ticker\":{\"id\":\"1509\",\"type\":\"CategoricalTicker\"}},\"id\":\"1511\",\"type\":\"Grid\"},{\"attributes\":{\"source\":{\"id\":\"1527\",\"type\":\"ColumnDataSource\"}},\"id\":\"1534\",\"type\":\"CDSView\"},{\"attributes\":{},\"id\":\"1569\",\"type\":\"UnionRenderers\"}],\"root_ids\":[\"1499\"]},\"title\":\"Bokeh Application\",\"version\":\"1.4.0\"}};\n",
       "  var render_items = [{\"docid\":\"893ab7c6-9e39-4d6f-9c9f-c09bfb451694\",\"roots\":{\"1499\":\"61a245a2-0311-4d35-9c42-90e3a13b3c27\"}}];\n",
       "  root.Bokeh.embed.embed_items_notebook(docs_json, render_items);\n",
       "\n",
       "  }\n",
       "  if (root.Bokeh !== undefined) {\n",
       "    embed_document(root);\n",
       "  } else {\n",
       "    var attempts = 0;\n",
       "    var timer = setInterval(function(root) {\n",
       "      if (root.Bokeh !== undefined) {\n",
       "        clearInterval(timer);\n",
       "        embed_document(root);\n",
       "      } else {\n",
       "        attempts++;\n",
       "        if (attempts > 100) {\n",
       "          clearInterval(timer);\n",
       "          console.log(\"Bokeh: ERROR: Unable to run BokehJS code because BokehJS library is missing\");\n",
       "        }\n",
       "      }\n",
       "    }, 10, root)\n",
       "  }\n",
       "})(window);"
      ],
      "application/vnd.bokehjs_exec.v0+json": ""
     },
     "metadata": {
      "application/vnd.bokehjs_exec.v0+json": {
       "id": "1499"
      }
     },
     "output_type": "display_data"
    }
   ],
   "source": [
    "genre_counts = all_genres.groupby('genre')['reviewid'].count().reset_index()\n",
    "\n",
    "chart = chartify.Chart(blank_labels=True, x_axis_type='categorical')\n",
    "chart.plot.bar(data_frame=genre_counts, categorical_columns='genre',\n",
    "               numeric_column='reviewid')\n",
    "chart.set_title('Number of reviews by genre')\n",
    "chart.show()"
   ]
  },
  {
   "cell_type": "code",
   "execution_count": null,
   "metadata": {},
   "outputs": [],
   "source": []
  }
 ],
 "metadata": {
  "kernelspec": {
   "display_name": "Python 3",
   "language": "python",
   "name": "python3"
  },
  "language_info": {
   "codemirror_mode": {
    "name": "ipython",
    "version": 3
   },
   "file_extension": ".py",
   "mimetype": "text/x-python",
   "name": "python",
   "nbconvert_exporter": "python",
   "pygments_lexer": "ipython3",
   "version": "3.7.3"
  }
 },
 "nbformat": 4,
 "nbformat_minor": 2
}
